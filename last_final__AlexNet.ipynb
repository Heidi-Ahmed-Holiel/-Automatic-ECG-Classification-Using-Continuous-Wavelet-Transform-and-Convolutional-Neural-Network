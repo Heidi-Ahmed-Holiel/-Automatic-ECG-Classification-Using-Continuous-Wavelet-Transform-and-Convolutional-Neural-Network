{
  "nbformat": 4,
  "nbformat_minor": 0,
  "metadata": {
    "colab": {
      "provenance": []
    },
    "kernelspec": {
      "name": "python3",
      "display_name": "Python 3"
    },
    "language_info": {
      "name": "python"
    }
  },
  "cells": [
    {
      "cell_type": "code",
      "source": [
        "import pywt\n",
        "import numpy as np\n",
        "import matplotlib.pyplot as plt\n",
        "from PIL import Image\n",
        "import tensorflow as tf"
      ],
      "metadata": {
        "id": "Flne8nSq3b55"
      },
      "execution_count": null,
      "outputs": []
    },
    {
      "cell_type": "code",
      "source": [
        "import os\n",
        "import warnings\n",
        "\n",
        "import torch\n",
        "import torch.nn as nn\n",
        "import torchvision\n",
        "from torchvision import datasets\n",
        "from torchvision import io\n",
        "from torchvision import models\n",
        "from torchvision import ops\n",
        "from torchvision import datasets, models, transforms\n",
        "from torchvision import utils"
      ],
      "metadata": {
        "id": "F-OGSZFUhmvA"
      },
      "execution_count": null,
      "outputs": []
    },
    {
      "cell_type": "code",
      "source": [
        "from __future__ import print_function, division\n",
        "\n",
        "import torch.optim as optim\n",
        "from torch.optim import lr_scheduler\n",
        "import torch.backends.cudnn as cudnn\n",
        "import time\n",
        "import copy"
      ],
      "metadata": {
        "id": "W6t-LUX7_0Dp"
      },
      "execution_count": null,
      "outputs": []
    },
    {
      "cell_type": "code",
      "source": [
        "import pandas as pd\n",
        "data=pd.read_csv('/content/drive/MyDrive/ECG_Project/ECG_Data.csv', header= None)"
      ],
      "metadata": {
        "id": "FVLemAtnx6-1"
      },
      "execution_count": null,
      "outputs": []
    },
    {
      "cell_type": "code",
      "source": [
        "data"
      ],
      "metadata": {
        "colab": {
          "base_uri": "https://localhost:8080/",
          "height": 488
        },
        "id": "e1jA8GBA0l9w",
        "outputId": "2cfee568-ad74-476b-a6bf-ac0668ae2002"
      },
      "execution_count": null,
      "outputs": [
        {
          "output_type": "execute_result",
          "data": {
            "text/plain": [
              "        0         1         2         3         4         5         6      \\\n",
              "0   -0.097857 -0.156880 -0.137820 -0.137180 -0.147680 -0.168520 -0.175890   \n",
              "1    0.119360  0.187560  0.169570  0.178590  0.211820  0.196610  0.072911   \n",
              "2   -0.024602 -0.036279 -0.035968 -0.030194 -0.045812 -0.093124 -0.091381   \n",
              "3   -0.508310 -0.808010 -0.721680 -0.789720 -0.767680 -0.774350 -0.772500   \n",
              "4   -0.312040 -0.495260 -0.442600 -0.465250 -0.428400 -0.444370 -0.417600   \n",
              "..        ...       ...       ...       ...       ...       ...       ...   \n",
              "157 -0.075000 -0.165000 -0.225000 -0.175000 -0.225000 -0.225000 -0.215000   \n",
              "158 -0.185000 -0.155000 -0.145000 -0.135000 -0.105000 -0.095000 -0.095000   \n",
              "159 -0.355000 -0.355000 -0.345000 -0.335000 -0.335000 -0.345000 -0.345000   \n",
              "160 -0.275000 -0.245000 -0.285000 -0.265000 -0.235000 -0.215000 -0.165000   \n",
              "161  0.125000  0.005000  0.025000  0.065000 -0.085000  0.005000 -0.065000   \n",
              "\n",
              "       7         8        9      ...    65526    65527    65528     65529  \\\n",
              "0   -0.17024 -0.181130 -0.14647  ... -0.16150 -0.12476 -0.10520 -0.094394   \n",
              "1    0.16588  0.083204  0.19923  ... -0.14173 -0.12142 -0.11378 -0.087638   \n",
              "2   -0.12895 -0.112480 -0.12733  ... -0.32789 -0.30844 -0.28238 -0.269380   \n",
              "3   -0.79432 -0.794940 -0.77814  ... -0.95345 -0.94342 -0.97155 -0.988560   \n",
              "4   -0.45334 -0.429220 -0.44191  ...  0.39209  0.43470  0.52352  0.592920   \n",
              "..       ...       ...      ...  ...      ...      ...      ...       ...   \n",
              "157 -0.18500 -0.235000 -0.21500  ... -0.16500 -0.26500 -0.50500 -0.315000   \n",
              "158 -0.06500 -0.055000 -0.02500  ...  0.10500  0.10500  0.15500  0.125000   \n",
              "159 -0.37500 -0.365000 -0.35500  ... -0.12500 -0.17500 -0.22500 -0.235000   \n",
              "160 -0.16500 -0.145000 -0.09500  ...  0.01500 -0.09500 -0.07500 -0.105000   \n",
              "161 -0.01500 -0.035000 -0.03500  ... -0.24500 -0.22500 -0.24500 -0.275000   \n",
              "\n",
              "        65530     65531    65532     65533    65534    65535  \n",
              "0   -0.124970 -0.104610 -0.12668 -0.074905 -0.11653 -0.18042  \n",
              "1   -0.097274 -0.089068 -0.10562 -0.097218 -0.12394 -0.10648  \n",
              "2   -0.248780 -0.247610 -0.19172 -0.186140 -0.12998 -0.12236  \n",
              "3   -0.994920 -0.996750 -1.01540 -1.042700 -1.04070 -1.04820  \n",
              "4    0.663010  0.743780  0.80943  0.822490  0.78724  0.68429  \n",
              "..        ...       ...      ...       ...      ...      ...  \n",
              "157  0.575000  1.775000  1.31500 -0.195000 -0.72500 -0.49500  \n",
              "158  0.175000  0.155000  0.18500  0.225000  0.22500  0.15500  \n",
              "159 -0.275000 -0.315000 -0.35500 -0.335000 -0.31500 -0.31500  \n",
              "160 -0.145000 -0.165000 -0.16500 -0.205000 -0.14500 -0.16500  \n",
              "161 -0.295000 -0.275000 -0.27500 -0.225000 -0.27500 -0.20500  \n",
              "\n",
              "[162 rows x 65536 columns]"
            ],
            "text/html": [
              "\n",
              "  <div id=\"df-2713ad91-3b10-433c-8cf3-1e43e009f81c\">\n",
              "    <div class=\"colab-df-container\">\n",
              "      <div>\n",
              "<style scoped>\n",
              "    .dataframe tbody tr th:only-of-type {\n",
              "        vertical-align: middle;\n",
              "    }\n",
              "\n",
              "    .dataframe tbody tr th {\n",
              "        vertical-align: top;\n",
              "    }\n",
              "\n",
              "    .dataframe thead th {\n",
              "        text-align: right;\n",
              "    }\n",
              "</style>\n",
              "<table border=\"1\" class=\"dataframe\">\n",
              "  <thead>\n",
              "    <tr style=\"text-align: right;\">\n",
              "      <th></th>\n",
              "      <th>0</th>\n",
              "      <th>1</th>\n",
              "      <th>2</th>\n",
              "      <th>3</th>\n",
              "      <th>4</th>\n",
              "      <th>5</th>\n",
              "      <th>6</th>\n",
              "      <th>7</th>\n",
              "      <th>8</th>\n",
              "      <th>9</th>\n",
              "      <th>...</th>\n",
              "      <th>65526</th>\n",
              "      <th>65527</th>\n",
              "      <th>65528</th>\n",
              "      <th>65529</th>\n",
              "      <th>65530</th>\n",
              "      <th>65531</th>\n",
              "      <th>65532</th>\n",
              "      <th>65533</th>\n",
              "      <th>65534</th>\n",
              "      <th>65535</th>\n",
              "    </tr>\n",
              "  </thead>\n",
              "  <tbody>\n",
              "    <tr>\n",
              "      <th>0</th>\n",
              "      <td>-0.097857</td>\n",
              "      <td>-0.156880</td>\n",
              "      <td>-0.137820</td>\n",
              "      <td>-0.137180</td>\n",
              "      <td>-0.147680</td>\n",
              "      <td>-0.168520</td>\n",
              "      <td>-0.175890</td>\n",
              "      <td>-0.17024</td>\n",
              "      <td>-0.181130</td>\n",
              "      <td>-0.14647</td>\n",
              "      <td>...</td>\n",
              "      <td>-0.16150</td>\n",
              "      <td>-0.12476</td>\n",
              "      <td>-0.10520</td>\n",
              "      <td>-0.094394</td>\n",
              "      <td>-0.124970</td>\n",
              "      <td>-0.104610</td>\n",
              "      <td>-0.12668</td>\n",
              "      <td>-0.074905</td>\n",
              "      <td>-0.11653</td>\n",
              "      <td>-0.18042</td>\n",
              "    </tr>\n",
              "    <tr>\n",
              "      <th>1</th>\n",
              "      <td>0.119360</td>\n",
              "      <td>0.187560</td>\n",
              "      <td>0.169570</td>\n",
              "      <td>0.178590</td>\n",
              "      <td>0.211820</td>\n",
              "      <td>0.196610</td>\n",
              "      <td>0.072911</td>\n",
              "      <td>0.16588</td>\n",
              "      <td>0.083204</td>\n",
              "      <td>0.19923</td>\n",
              "      <td>...</td>\n",
              "      <td>-0.14173</td>\n",
              "      <td>-0.12142</td>\n",
              "      <td>-0.11378</td>\n",
              "      <td>-0.087638</td>\n",
              "      <td>-0.097274</td>\n",
              "      <td>-0.089068</td>\n",
              "      <td>-0.10562</td>\n",
              "      <td>-0.097218</td>\n",
              "      <td>-0.12394</td>\n",
              "      <td>-0.10648</td>\n",
              "    </tr>\n",
              "    <tr>\n",
              "      <th>2</th>\n",
              "      <td>-0.024602</td>\n",
              "      <td>-0.036279</td>\n",
              "      <td>-0.035968</td>\n",
              "      <td>-0.030194</td>\n",
              "      <td>-0.045812</td>\n",
              "      <td>-0.093124</td>\n",
              "      <td>-0.091381</td>\n",
              "      <td>-0.12895</td>\n",
              "      <td>-0.112480</td>\n",
              "      <td>-0.12733</td>\n",
              "      <td>...</td>\n",
              "      <td>-0.32789</td>\n",
              "      <td>-0.30844</td>\n",
              "      <td>-0.28238</td>\n",
              "      <td>-0.269380</td>\n",
              "      <td>-0.248780</td>\n",
              "      <td>-0.247610</td>\n",
              "      <td>-0.19172</td>\n",
              "      <td>-0.186140</td>\n",
              "      <td>-0.12998</td>\n",
              "      <td>-0.12236</td>\n",
              "    </tr>\n",
              "    <tr>\n",
              "      <th>3</th>\n",
              "      <td>-0.508310</td>\n",
              "      <td>-0.808010</td>\n",
              "      <td>-0.721680</td>\n",
              "      <td>-0.789720</td>\n",
              "      <td>-0.767680</td>\n",
              "      <td>-0.774350</td>\n",
              "      <td>-0.772500</td>\n",
              "      <td>-0.79432</td>\n",
              "      <td>-0.794940</td>\n",
              "      <td>-0.77814</td>\n",
              "      <td>...</td>\n",
              "      <td>-0.95345</td>\n",
              "      <td>-0.94342</td>\n",
              "      <td>-0.97155</td>\n",
              "      <td>-0.988560</td>\n",
              "      <td>-0.994920</td>\n",
              "      <td>-0.996750</td>\n",
              "      <td>-1.01540</td>\n",
              "      <td>-1.042700</td>\n",
              "      <td>-1.04070</td>\n",
              "      <td>-1.04820</td>\n",
              "    </tr>\n",
              "    <tr>\n",
              "      <th>4</th>\n",
              "      <td>-0.312040</td>\n",
              "      <td>-0.495260</td>\n",
              "      <td>-0.442600</td>\n",
              "      <td>-0.465250</td>\n",
              "      <td>-0.428400</td>\n",
              "      <td>-0.444370</td>\n",
              "      <td>-0.417600</td>\n",
              "      <td>-0.45334</td>\n",
              "      <td>-0.429220</td>\n",
              "      <td>-0.44191</td>\n",
              "      <td>...</td>\n",
              "      <td>0.39209</td>\n",
              "      <td>0.43470</td>\n",
              "      <td>0.52352</td>\n",
              "      <td>0.592920</td>\n",
              "      <td>0.663010</td>\n",
              "      <td>0.743780</td>\n",
              "      <td>0.80943</td>\n",
              "      <td>0.822490</td>\n",
              "      <td>0.78724</td>\n",
              "      <td>0.68429</td>\n",
              "    </tr>\n",
              "    <tr>\n",
              "      <th>...</th>\n",
              "      <td>...</td>\n",
              "      <td>...</td>\n",
              "      <td>...</td>\n",
              "      <td>...</td>\n",
              "      <td>...</td>\n",
              "      <td>...</td>\n",
              "      <td>...</td>\n",
              "      <td>...</td>\n",
              "      <td>...</td>\n",
              "      <td>...</td>\n",
              "      <td>...</td>\n",
              "      <td>...</td>\n",
              "      <td>...</td>\n",
              "      <td>...</td>\n",
              "      <td>...</td>\n",
              "      <td>...</td>\n",
              "      <td>...</td>\n",
              "      <td>...</td>\n",
              "      <td>...</td>\n",
              "      <td>...</td>\n",
              "      <td>...</td>\n",
              "    </tr>\n",
              "    <tr>\n",
              "      <th>157</th>\n",
              "      <td>-0.075000</td>\n",
              "      <td>-0.165000</td>\n",
              "      <td>-0.225000</td>\n",
              "      <td>-0.175000</td>\n",
              "      <td>-0.225000</td>\n",
              "      <td>-0.225000</td>\n",
              "      <td>-0.215000</td>\n",
              "      <td>-0.18500</td>\n",
              "      <td>-0.235000</td>\n",
              "      <td>-0.21500</td>\n",
              "      <td>...</td>\n",
              "      <td>-0.16500</td>\n",
              "      <td>-0.26500</td>\n",
              "      <td>-0.50500</td>\n",
              "      <td>-0.315000</td>\n",
              "      <td>0.575000</td>\n",
              "      <td>1.775000</td>\n",
              "      <td>1.31500</td>\n",
              "      <td>-0.195000</td>\n",
              "      <td>-0.72500</td>\n",
              "      <td>-0.49500</td>\n",
              "    </tr>\n",
              "    <tr>\n",
              "      <th>158</th>\n",
              "      <td>-0.185000</td>\n",
              "      <td>-0.155000</td>\n",
              "      <td>-0.145000</td>\n",
              "      <td>-0.135000</td>\n",
              "      <td>-0.105000</td>\n",
              "      <td>-0.095000</td>\n",
              "      <td>-0.095000</td>\n",
              "      <td>-0.06500</td>\n",
              "      <td>-0.055000</td>\n",
              "      <td>-0.02500</td>\n",
              "      <td>...</td>\n",
              "      <td>0.10500</td>\n",
              "      <td>0.10500</td>\n",
              "      <td>0.15500</td>\n",
              "      <td>0.125000</td>\n",
              "      <td>0.175000</td>\n",
              "      <td>0.155000</td>\n",
              "      <td>0.18500</td>\n",
              "      <td>0.225000</td>\n",
              "      <td>0.22500</td>\n",
              "      <td>0.15500</td>\n",
              "    </tr>\n",
              "    <tr>\n",
              "      <th>159</th>\n",
              "      <td>-0.355000</td>\n",
              "      <td>-0.355000</td>\n",
              "      <td>-0.345000</td>\n",
              "      <td>-0.335000</td>\n",
              "      <td>-0.335000</td>\n",
              "      <td>-0.345000</td>\n",
              "      <td>-0.345000</td>\n",
              "      <td>-0.37500</td>\n",
              "      <td>-0.365000</td>\n",
              "      <td>-0.35500</td>\n",
              "      <td>...</td>\n",
              "      <td>-0.12500</td>\n",
              "      <td>-0.17500</td>\n",
              "      <td>-0.22500</td>\n",
              "      <td>-0.235000</td>\n",
              "      <td>-0.275000</td>\n",
              "      <td>-0.315000</td>\n",
              "      <td>-0.35500</td>\n",
              "      <td>-0.335000</td>\n",
              "      <td>-0.31500</td>\n",
              "      <td>-0.31500</td>\n",
              "    </tr>\n",
              "    <tr>\n",
              "      <th>160</th>\n",
              "      <td>-0.275000</td>\n",
              "      <td>-0.245000</td>\n",
              "      <td>-0.285000</td>\n",
              "      <td>-0.265000</td>\n",
              "      <td>-0.235000</td>\n",
              "      <td>-0.215000</td>\n",
              "      <td>-0.165000</td>\n",
              "      <td>-0.16500</td>\n",
              "      <td>-0.145000</td>\n",
              "      <td>-0.09500</td>\n",
              "      <td>...</td>\n",
              "      <td>0.01500</td>\n",
              "      <td>-0.09500</td>\n",
              "      <td>-0.07500</td>\n",
              "      <td>-0.105000</td>\n",
              "      <td>-0.145000</td>\n",
              "      <td>-0.165000</td>\n",
              "      <td>-0.16500</td>\n",
              "      <td>-0.205000</td>\n",
              "      <td>-0.14500</td>\n",
              "      <td>-0.16500</td>\n",
              "    </tr>\n",
              "    <tr>\n",
              "      <th>161</th>\n",
              "      <td>0.125000</td>\n",
              "      <td>0.005000</td>\n",
              "      <td>0.025000</td>\n",
              "      <td>0.065000</td>\n",
              "      <td>-0.085000</td>\n",
              "      <td>0.005000</td>\n",
              "      <td>-0.065000</td>\n",
              "      <td>-0.01500</td>\n",
              "      <td>-0.035000</td>\n",
              "      <td>-0.03500</td>\n",
              "      <td>...</td>\n",
              "      <td>-0.24500</td>\n",
              "      <td>-0.22500</td>\n",
              "      <td>-0.24500</td>\n",
              "      <td>-0.275000</td>\n",
              "      <td>-0.295000</td>\n",
              "      <td>-0.275000</td>\n",
              "      <td>-0.27500</td>\n",
              "      <td>-0.225000</td>\n",
              "      <td>-0.27500</td>\n",
              "      <td>-0.20500</td>\n",
              "    </tr>\n",
              "  </tbody>\n",
              "</table>\n",
              "<p>162 rows × 65536 columns</p>\n",
              "</div>\n",
              "      <button class=\"colab-df-convert\" onclick=\"convertToInteractive('df-2713ad91-3b10-433c-8cf3-1e43e009f81c')\"\n",
              "              title=\"Convert this dataframe to an interactive table.\"\n",
              "              style=\"display:none;\">\n",
              "        \n",
              "  <svg xmlns=\"http://www.w3.org/2000/svg\" height=\"24px\"viewBox=\"0 0 24 24\"\n",
              "       width=\"24px\">\n",
              "    <path d=\"M0 0h24v24H0V0z\" fill=\"none\"/>\n",
              "    <path d=\"M18.56 5.44l.94 2.06.94-2.06 2.06-.94-2.06-.94-.94-2.06-.94 2.06-2.06.94zm-11 1L8.5 8.5l.94-2.06 2.06-.94-2.06-.94L8.5 2.5l-.94 2.06-2.06.94zm10 10l.94 2.06.94-2.06 2.06-.94-2.06-.94-.94-2.06-.94 2.06-2.06.94z\"/><path d=\"M17.41 7.96l-1.37-1.37c-.4-.4-.92-.59-1.43-.59-.52 0-1.04.2-1.43.59L10.3 9.45l-7.72 7.72c-.78.78-.78 2.05 0 2.83L4 21.41c.39.39.9.59 1.41.59.51 0 1.02-.2 1.41-.59l7.78-7.78 2.81-2.81c.8-.78.8-2.07 0-2.86zM5.41 20L4 18.59l7.72-7.72 1.47 1.35L5.41 20z\"/>\n",
              "  </svg>\n",
              "      </button>\n",
              "      \n",
              "  <style>\n",
              "    .colab-df-container {\n",
              "      display:flex;\n",
              "      flex-wrap:wrap;\n",
              "      gap: 12px;\n",
              "    }\n",
              "\n",
              "    .colab-df-convert {\n",
              "      background-color: #E8F0FE;\n",
              "      border: none;\n",
              "      border-radius: 50%;\n",
              "      cursor: pointer;\n",
              "      display: none;\n",
              "      fill: #1967D2;\n",
              "      height: 32px;\n",
              "      padding: 0 0 0 0;\n",
              "      width: 32px;\n",
              "    }\n",
              "\n",
              "    .colab-df-convert:hover {\n",
              "      background-color: #E2EBFA;\n",
              "      box-shadow: 0px 1px 2px rgba(60, 64, 67, 0.3), 0px 1px 3px 1px rgba(60, 64, 67, 0.15);\n",
              "      fill: #174EA6;\n",
              "    }\n",
              "\n",
              "    [theme=dark] .colab-df-convert {\n",
              "      background-color: #3B4455;\n",
              "      fill: #D2E3FC;\n",
              "    }\n",
              "\n",
              "    [theme=dark] .colab-df-convert:hover {\n",
              "      background-color: #434B5C;\n",
              "      box-shadow: 0px 1px 3px 1px rgba(0, 0, 0, 0.15);\n",
              "      filter: drop-shadow(0px 1px 2px rgba(0, 0, 0, 0.3));\n",
              "      fill: #FFFFFF;\n",
              "    }\n",
              "  </style>\n",
              "\n",
              "      <script>\n",
              "        const buttonEl =\n",
              "          document.querySelector('#df-2713ad91-3b10-433c-8cf3-1e43e009f81c button.colab-df-convert');\n",
              "        buttonEl.style.display =\n",
              "          google.colab.kernel.accessAllowed ? 'block' : 'none';\n",
              "\n",
              "        async function convertToInteractive(key) {\n",
              "          const element = document.querySelector('#df-2713ad91-3b10-433c-8cf3-1e43e009f81c');\n",
              "          const dataTable =\n",
              "            await google.colab.kernel.invokeFunction('convertToInteractive',\n",
              "                                                     [key], {});\n",
              "          if (!dataTable) return;\n",
              "\n",
              "          const docLinkHtml = 'Like what you see? Visit the ' +\n",
              "            '<a target=\"_blank\" href=https://colab.research.google.com/notebooks/data_table.ipynb>data table notebook</a>'\n",
              "            + ' to learn more about interactive tables.';\n",
              "          element.innerHTML = '';\n",
              "          dataTable['output_type'] = 'display_data';\n",
              "          await google.colab.output.renderOutput(dataTable, element);\n",
              "          const docLink = document.createElement('div');\n",
              "          docLink.innerHTML = docLinkHtml;\n",
              "          element.appendChild(docLink);\n",
              "        }\n",
              "      </script>\n",
              "    </div>\n",
              "  </div>\n",
              "  "
            ]
          },
          "metadata": {},
          "execution_count": 5
        }
      ]
    },
    {
      "cell_type": "code",
      "source": [
        "data.shape"
      ],
      "metadata": {
        "colab": {
          "base_uri": "https://localhost:8080/"
        },
        "id": "V87rDvhW-a1I",
        "outputId": "ce4dde90-4aa6-4b1c-accb-98e465369bd3"
      },
      "execution_count": null,
      "outputs": [
        {
          "output_type": "execute_result",
          "data": {
            "text/plain": [
              "(162, 65536)"
            ]
          },
          "metadata": {},
          "execution_count": 6
        }
      ]
    },
    {
      "cell_type": "code",
      "source": [
        "labels=pd.read_csv('/content/drive/MyDrive/ECG_Project/label_ecg2.csv')"
      ],
      "metadata": {
        "id": "ItXprcLXz7OY"
      },
      "execution_count": null,
      "outputs": []
    },
    {
      "cell_type": "code",
      "source": [
        "labels"
      ],
      "metadata": {
        "colab": {
          "base_uri": "https://localhost:8080/",
          "height": 424
        },
        "id": "JlHXZ6HH0hLW",
        "outputId": "042a4030-d167-408f-d417-e3a395e59e32"
      },
      "execution_count": null,
      "outputs": [
        {
          "output_type": "execute_result",
          "data": {
            "text/plain": [
              "    labels\n",
              "0      ARR\n",
              "1      ARR\n",
              "2      ARR\n",
              "3      ARR\n",
              "4      ARR\n",
              "..     ...\n",
              "157    NSR\n",
              "158    NSR\n",
              "159    NSR\n",
              "160    NSR\n",
              "161    NSR\n",
              "\n",
              "[162 rows x 1 columns]"
            ],
            "text/html": [
              "\n",
              "  <div id=\"df-0a5a3b32-5b06-454a-ae37-e8747e8b3469\">\n",
              "    <div class=\"colab-df-container\">\n",
              "      <div>\n",
              "<style scoped>\n",
              "    .dataframe tbody tr th:only-of-type {\n",
              "        vertical-align: middle;\n",
              "    }\n",
              "\n",
              "    .dataframe tbody tr th {\n",
              "        vertical-align: top;\n",
              "    }\n",
              "\n",
              "    .dataframe thead th {\n",
              "        text-align: right;\n",
              "    }\n",
              "</style>\n",
              "<table border=\"1\" class=\"dataframe\">\n",
              "  <thead>\n",
              "    <tr style=\"text-align: right;\">\n",
              "      <th></th>\n",
              "      <th>labels</th>\n",
              "    </tr>\n",
              "  </thead>\n",
              "  <tbody>\n",
              "    <tr>\n",
              "      <th>0</th>\n",
              "      <td>ARR</td>\n",
              "    </tr>\n",
              "    <tr>\n",
              "      <th>1</th>\n",
              "      <td>ARR</td>\n",
              "    </tr>\n",
              "    <tr>\n",
              "      <th>2</th>\n",
              "      <td>ARR</td>\n",
              "    </tr>\n",
              "    <tr>\n",
              "      <th>3</th>\n",
              "      <td>ARR</td>\n",
              "    </tr>\n",
              "    <tr>\n",
              "      <th>4</th>\n",
              "      <td>ARR</td>\n",
              "    </tr>\n",
              "    <tr>\n",
              "      <th>...</th>\n",
              "      <td>...</td>\n",
              "    </tr>\n",
              "    <tr>\n",
              "      <th>157</th>\n",
              "      <td>NSR</td>\n",
              "    </tr>\n",
              "    <tr>\n",
              "      <th>158</th>\n",
              "      <td>NSR</td>\n",
              "    </tr>\n",
              "    <tr>\n",
              "      <th>159</th>\n",
              "      <td>NSR</td>\n",
              "    </tr>\n",
              "    <tr>\n",
              "      <th>160</th>\n",
              "      <td>NSR</td>\n",
              "    </tr>\n",
              "    <tr>\n",
              "      <th>161</th>\n",
              "      <td>NSR</td>\n",
              "    </tr>\n",
              "  </tbody>\n",
              "</table>\n",
              "<p>162 rows × 1 columns</p>\n",
              "</div>\n",
              "      <button class=\"colab-df-convert\" onclick=\"convertToInteractive('df-0a5a3b32-5b06-454a-ae37-e8747e8b3469')\"\n",
              "              title=\"Convert this dataframe to an interactive table.\"\n",
              "              style=\"display:none;\">\n",
              "        \n",
              "  <svg xmlns=\"http://www.w3.org/2000/svg\" height=\"24px\"viewBox=\"0 0 24 24\"\n",
              "       width=\"24px\">\n",
              "    <path d=\"M0 0h24v24H0V0z\" fill=\"none\"/>\n",
              "    <path d=\"M18.56 5.44l.94 2.06.94-2.06 2.06-.94-2.06-.94-.94-2.06-.94 2.06-2.06.94zm-11 1L8.5 8.5l.94-2.06 2.06-.94-2.06-.94L8.5 2.5l-.94 2.06-2.06.94zm10 10l.94 2.06.94-2.06 2.06-.94-2.06-.94-.94-2.06-.94 2.06-2.06.94z\"/><path d=\"M17.41 7.96l-1.37-1.37c-.4-.4-.92-.59-1.43-.59-.52 0-1.04.2-1.43.59L10.3 9.45l-7.72 7.72c-.78.78-.78 2.05 0 2.83L4 21.41c.39.39.9.59 1.41.59.51 0 1.02-.2 1.41-.59l7.78-7.78 2.81-2.81c.8-.78.8-2.07 0-2.86zM5.41 20L4 18.59l7.72-7.72 1.47 1.35L5.41 20z\"/>\n",
              "  </svg>\n",
              "      </button>\n",
              "      \n",
              "  <style>\n",
              "    .colab-df-container {\n",
              "      display:flex;\n",
              "      flex-wrap:wrap;\n",
              "      gap: 12px;\n",
              "    }\n",
              "\n",
              "    .colab-df-convert {\n",
              "      background-color: #E8F0FE;\n",
              "      border: none;\n",
              "      border-radius: 50%;\n",
              "      cursor: pointer;\n",
              "      display: none;\n",
              "      fill: #1967D2;\n",
              "      height: 32px;\n",
              "      padding: 0 0 0 0;\n",
              "      width: 32px;\n",
              "    }\n",
              "\n",
              "    .colab-df-convert:hover {\n",
              "      background-color: #E2EBFA;\n",
              "      box-shadow: 0px 1px 2px rgba(60, 64, 67, 0.3), 0px 1px 3px 1px rgba(60, 64, 67, 0.15);\n",
              "      fill: #174EA6;\n",
              "    }\n",
              "\n",
              "    [theme=dark] .colab-df-convert {\n",
              "      background-color: #3B4455;\n",
              "      fill: #D2E3FC;\n",
              "    }\n",
              "\n",
              "    [theme=dark] .colab-df-convert:hover {\n",
              "      background-color: #434B5C;\n",
              "      box-shadow: 0px 1px 3px 1px rgba(0, 0, 0, 0.15);\n",
              "      filter: drop-shadow(0px 1px 2px rgba(0, 0, 0, 0.3));\n",
              "      fill: #FFFFFF;\n",
              "    }\n",
              "  </style>\n",
              "\n",
              "      <script>\n",
              "        const buttonEl =\n",
              "          document.querySelector('#df-0a5a3b32-5b06-454a-ae37-e8747e8b3469 button.colab-df-convert');\n",
              "        buttonEl.style.display =\n",
              "          google.colab.kernel.accessAllowed ? 'block' : 'none';\n",
              "\n",
              "        async function convertToInteractive(key) {\n",
              "          const element = document.querySelector('#df-0a5a3b32-5b06-454a-ae37-e8747e8b3469');\n",
              "          const dataTable =\n",
              "            await google.colab.kernel.invokeFunction('convertToInteractive',\n",
              "                                                     [key], {});\n",
              "          if (!dataTable) return;\n",
              "\n",
              "          const docLinkHtml = 'Like what you see? Visit the ' +\n",
              "            '<a target=\"_blank\" href=https://colab.research.google.com/notebooks/data_table.ipynb>data table notebook</a>'\n",
              "            + ' to learn more about interactive tables.';\n",
              "          element.innerHTML = '';\n",
              "          dataTable['output_type'] = 'display_data';\n",
              "          await google.colab.output.renderOutput(dataTable, element);\n",
              "          const docLink = document.createElement('div');\n",
              "          docLink.innerHTML = docLinkHtml;\n",
              "          element.appendChild(docLink);\n",
              "        }\n",
              "      </script>\n",
              "    </div>\n",
              "  </div>\n",
              "  "
            ]
          },
          "metadata": {},
          "execution_count": 8
        }
      ]
    },
    {
      "cell_type": "code",
      "source": [
        "data1=data.iloc[:, 0:10000]"
      ],
      "metadata": {
        "id": "UrpSFWdt_MXt"
      },
      "execution_count": null,
      "outputs": []
    },
    {
      "cell_type": "code",
      "source": [
        "data1.shape"
      ],
      "metadata": {
        "colab": {
          "base_uri": "https://localhost:8080/"
        },
        "id": "o6DzIJ1__ygl",
        "outputId": "1394609a-644b-4adc-ae08-3099d350d66b"
      },
      "execution_count": null,
      "outputs": [
        {
          "output_type": "execute_result",
          "data": {
            "text/plain": [
              "(162, 10000)"
            ]
          },
          "metadata": {},
          "execution_count": 10
        }
      ]
    },
    {
      "cell_type": "code",
      "source": [
        "import matplotlib.pyplot as plt\n",
        "import numpy as np\n",
        "plt.grid()\n",
        "plt.plot(np.arange(499), data.iloc[0, 0:499])\n",
        "plt.title(\"ARR ECG\")\n",
        "plt.show()"
      ],
      "metadata": {
        "colab": {
          "base_uri": "https://localhost:8080/",
          "height": 281
        },
        "id": "EYzir5A-qszi",
        "outputId": "fbe24ebb-6260-45b9-a9c0-b53a37c146bc"
      },
      "execution_count": null,
      "outputs": [
        {
          "output_type": "display_data",
          "data": {
            "text/plain": [
              "<Figure size 432x288 with 1 Axes>"
            ],
            "image/png": "[encoded data removed]"
          },
          "metadata": {
            "needs_background": "light"
          }
        }
      ]
    },
    {
      "cell_type": "code",
      "source": [
        "import matplotlib.pyplot as plt\n",
        "import numpy as np\n",
        "plt.grid()\n",
        "plt.plot(np.arange(499), data.iloc[96, 0:499])\n",
        "plt.title(\"CHF ECG\")\n",
        "plt.show()"
      ],
      "metadata": {
        "colab": {
          "base_uri": "https://localhost:8080/",
          "height": 281
        },
        "id": "usgFQExkrZLg",
        "outputId": "d69dbb46-40ae-45f4-ce44-477965250d34"
      },
      "execution_count": null,
      "outputs": [
        {
          "output_type": "display_data",
          "data": {
            "text/plain": [
              "<Figure size 432x288 with 1 Axes>"
            ],
            "image/png": "[encoded data removed]"
          },
          "metadata": {
            "needs_background": "light"
          }
        }
      ]
    },
    {
      "cell_type": "code",
      "source": [
        "plt.grid()\n",
        "plt.plot(np.arange(499), data.iloc[160, 0:499])\n",
        "plt.title(\"NSR ECG\")\n",
        "plt.show()"
      ],
      "metadata": {
        "colab": {
          "base_uri": "https://localhost:8080/",
          "height": 281
        },
        "id": "B9L4g4jSr0e8",
        "outputId": "4ce25ef6-1d17-4cf9-e355-dfba2c5656b1"
      },
      "execution_count": null,
      "outputs": [
        {
          "output_type": "display_data",
          "data": {
            "text/plain": [
              "<Figure size 432x288 with 1 Axes>"
            ],
            "image/png": "[encoded data removed]"
          },
          "metadata": {
            "needs_background": "light"
          }
        }
      ]
    },
    {
      "cell_type": "code",
      "source": [
        "coeff_ARR=[]\n",
        "coeff_CHF=[]\n",
        "coeff_NSR=[]\n",
        "freq_ARR=[]\n",
        "freq_CHF=[]\n",
        "freq_NSR=[]\n",
        "c=1\n",
        "d=1\n",
        "e=1\n",
        "for i in range (162):\n",
        "  if (i>=0 and i<=95):\n",
        "    coef, freqs=pywt.cwt(data.iloc[i, 0:999],np.arange(1,162),'gaus1')\n",
        "    coeff_ARR.append(coef)\n",
        "    freq_ARR.append(freqs)\n",
        "    plt.imshow(coef);\n",
        "    #name= \"/content/drive/MyDrive/ECG_Project/ARR_Scalogram/ARR_SC\"+str(c)+\".jpeg\"\n",
        "    #plt.savefig(name)\n",
        "    c=c+1\n",
        "  elif(i>=96 and i<=125):\n",
        "      coef, freqs=pywt.cwt(data.iloc[i, 0:999],np.arange(1,162),'gaus1')\n",
        "      coeff_CHF.append(coef)\n",
        "      freq_CHF.append(freqs)\n",
        "      plt.imshow(coef);\n",
        "      #name= \"/content/drive/MyDrive/ECG_Project/CHF_Scalogram/CHF_SC\"+str(d)+\".jpeg\"\n",
        "      #plt.savefig(name)\n",
        "      d=d+1\n",
        "  else:\n",
        "      coef, freqs=pywt.cwt(data.iloc[i, 0:999],np.arange(1,162),'gaus1')\n",
        "      coeff_NSR.append(coef)\n",
        "      freq_NSR.append(freqs)\n",
        "      plt.imshow(coef);\n",
        "      #name= \"/content/drive/MyDrive/ECG_Project/NSR_Scalogram/NSR_SC\"+str(e)+\".jpeg\"\n",
        "      #plt.savefig(name)\n",
        "      e=e+1"
      ],
      "metadata": {
        "colab": {
          "base_uri": "https://localhost:8080/",
          "height": 106
        },
        "id": "3TMVczZsWIwl",
        "outputId": "5a8ff181-32a4-4a8d-fedf-d8bfe1acc036"
      },
      "execution_count": null,
      "outputs": [
        {
          "output_type": "display_data",
          "data": {
            "text/plain": [
              "<Figure size 432x288 with 1 Axes>"
            ],
            "image/png": "[encoded data removed]"
          },
          "metadata": {
            "needs_background": "light"
          }
        }
      ]
    },
    {
      "cell_type": "code",
      "source": [
        "from keras.preprocessing.image import ImageDataGenerator\n",
        "from keras.preprocessing.image import load_img, img_to_array"
      ],
      "metadata": {
        "id": "FRVN4mxSJ8iZ"
      },
      "execution_count": null,
      "outputs": []
    },
    {
      "cell_type": "code",
      "source": [
        "data_dir='/content/drive/MyDrive/ECG_Project/For_train&test'"
      ],
      "metadata": {
        "id": "V8wuioHk-EcE"
      },
      "execution_count": null,
      "outputs": []
    },
    {
      "cell_type": "code",
      "source": [
        "# Data augmentation and normalization for training\n",
        "# Just normalization for validation\n",
        "data_transforms = {\n",
        "    'train': transforms.Compose([\n",
        "        transforms.RandomResizedCrop(224),\n",
        "        transforms.RandomHorizontalFlip(),\n",
        "        transforms.ToTensor(),\n",
        "        transforms.Normalize([0.485, 0.456, 0.406], [0.229, 0.224, 0.225])\n",
        "    ]),\n",
        "    'test': transforms.Compose([\n",
        "        transforms.Resize(256),\n",
        "        transforms.CenterCrop(224),\n",
        "        transforms.ToTensor(),\n",
        "        transforms.Normalize([0.485, 0.456, 0.406], [0.229, 0.224, 0.225])\n",
        "    ]),\n",
        "}\n",
        "\n",
        "data_dir = '/content/drive/MyDrive/ECG_Project/For_train&test'\n",
        "image_datasets = {x: datasets.ImageFolder(os.path.join(data_dir, x),\n",
        "                                          data_transforms[x])\n",
        "                  for x in ['train', 'test']}\n",
        "dataloaders = {x: torch.utils.data.DataLoader(image_datasets[x], batch_size=32,\n",
        "                                             shuffle=True, num_workers=3)\n",
        "              for x in ['train', 'test']}\n",
        "dataset_sizes = {x: len(image_datasets[x]) for x in ['train', 'test']}\n",
        "class_names = image_datasets['train'].classes\n",
        "\n",
        "device = torch.device(\"cuda:0\" if torch.cuda.is_available() else \"cpu\")"
      ],
      "metadata": {
        "colab": {
          "base_uri": "https://localhost:8080/"
        },
        "id": "uFBxqIdE8dXS",
        "outputId": "bc72a0db-600e-4a36-c555-3ff61dcdbe3e"
      },
      "execution_count": null,
      "outputs": [
        {
          "output_type": "stream",
          "name": "stderr",
          "text": [
            "/usr/local/lib/python3.7/dist-packages/torch/utils/data/dataloader.py:490: UserWarning: This DataLoader will create 3 worker processes in total. Our suggested max number of worker in current system is 2, which is smaller than what this DataLoader is going to create. Please be aware that excessive worker creation might get DataLoader running slow or even freeze, lower the worker number to avoid potential slowness/freeze if necessary.\n",
            "  cpuset_checked))\n"
          ]
        }
      ]
    },
    {
      "cell_type": "code",
      "source": [
        "def imshow(inp, title=None):\n",
        "    \"\"\"Imshow for Tensor.\"\"\"\n",
        "    inp = inp.numpy().transpose((1, 2, 0))\n",
        "    mean = np.array([0.485, 0.456, 0.406])\n",
        "    std = np.array([0.229, 0.224, 0.225])\n",
        "    inp = std * inp + mean\n",
        "    inp = np.clip(inp, 0, 1)\n",
        "    plt.imshow(inp)\n",
        "    if title is not None:\n",
        "        plt.title(title)\n",
        "    plt.pause(0.001)  # pause a bit so that plots are updated\n",
        "\n",
        "\n",
        "# Get a batch of training data\n",
        "inputs, classes = next(iter(dataloaders['train']))\n",
        "\n",
        "# Make a grid from batch\n",
        "out = torchvision.utils.make_grid(inputs)\n",
        "\n",
        "imshow(out, title=[class_names[x] for x in classes])"
      ],
      "metadata": {
        "colab": {
          "base_uri": "https://localhost:8080/",
          "height": 157
        },
        "id": "eUjg3qzM9wHZ",
        "outputId": "228f67bb-c465-48b2-b691-0b556970cc81"
      },
      "execution_count": null,
      "outputs": [
        {
          "output_type": "stream",
          "name": "stderr",
          "text": [
            "/usr/local/lib/python3.7/dist-packages/torch/utils/data/dataloader.py:490: UserWarning: This DataLoader will create 3 worker processes in total. Our suggested max number of worker in current system is 2, which is smaller than what this DataLoader is going to create. Please be aware that excessive worker creation might get DataLoader running slow or even freeze, lower the worker number to avoid potential slowness/freeze if necessary.\n",
            "  cpuset_checked))\n"
          ]
        },
        {
          "output_type": "display_data",
          "data": {
            "text/plain": [
              "<Figure size 432x288 with 1 Axes>"
            ],
            "image/png": "[encoded data removed]"
          },
          "metadata": {
            "needs_background": "light"
          }
        }
      ]
    },
    {
      "cell_type": "code",
      "source": [
        "def train_model(model, criterion, optimizer, scheduler, num_epochs=25):\n",
        "    since = time.time()\n",
        "    train_acc_sum=0\n",
        "\n",
        "    best_model_wts = copy.deepcopy(model.state_dict())\n",
        "    best_acc = 0.0\n",
        "\n",
        "    for epoch in range(num_epochs):\n",
        "        print(f'Epoch {epoch}/{num_epochs - 1}')\n",
        "        print('-' * 10)\n",
        "\n",
        "        # Each epoch has a training and validation phase\n",
        "        for phase in ['train', 'test']:\n",
        "            if phase == 'train':\n",
        "                model.train()  # Set model to training mode\n",
        "            else:\n",
        "                model.eval()   # Set model to evaluate mode\n",
        "\n",
        "            running_loss = 0.0\n",
        "            running_corrects = 0\n",
        "\n",
        "            # Iterate over data.\n",
        "            for inputs, labels in dataloaders[phase]:\n",
        "                inputs = inputs.to(device)\n",
        "                labels = labels.to(device)\n",
        "\n",
        "                # zero the parameter gradients\n",
        "                optimizer.zero_grad()\n",
        "\n",
        "                # forward\n",
        "                # track history if only in train\n",
        "                with torch.set_grad_enabled(phase == 'train'):\n",
        "                    outputs = model(inputs)\n",
        "                    _, preds = torch.max(outputs, 1)\n",
        "                    loss = criterion(outputs, labels)\n",
        "\n",
        "                    # backward + optimize only if in training phase\n",
        "                    if phase == 'train':\n",
        "                        loss.backward()\n",
        "                        optimizer.step()\n",
        "\n",
        "                # statistics\n",
        "                running_loss += loss.item() * inputs.size(0)\n",
        "                running_corrects += torch.sum(preds == labels.data)\n",
        "            if phase == 'train':\n",
        "                scheduler.step()\n",
        "\n",
        "            epoch_loss = running_loss / dataset_sizes[phase]\n",
        "            epoch_acc = running_corrects.double() / dataset_sizes[phase]\n",
        "            print(f'{phase} Loss: {epoch_loss:.4f} Acc: {epoch_acc:.4f}')\n",
        "            train_acc_sum=train_acc_sum+epoch_acc\n",
        "\n",
        "            # deep copy the model\n",
        "            if phase == 'test' and epoch_acc > best_acc:\n",
        "                best_acc = epoch_acc\n",
        "                best_model_wts = copy.deepcopy(model.state_dict())\n",
        "\n",
        "        print()\n",
        "\n",
        "    time_elapsed = time.time() - since\n",
        "    avg_acc=train_acc_sum/num_epochs\n",
        "\n",
        "    print(f'Training complete in {time_elapsed // 60:.0f}m {time_elapsed % 60:.0f}s')\n",
        "    print(f'Best val Acc: {best_acc:4f}')\n",
        "    print(f'Accuracy: {avg_acc:4f}')\n",
        "\n",
        "    # load best model weights\n",
        "    model.load_state_dict(best_model_wts)\n",
        "    return model"
      ],
      "metadata": {
        "id": "amTf7XBD-e_d"
      },
      "execution_count": null,
      "outputs": []
    },
    {
      "cell_type": "code",
      "source": [
        "#visualize model prediction\n",
        "def visualize_model(model, num_images=6):\n",
        "    was_training = model.training\n",
        "    model.eval()\n",
        "    images_so_far = 0\n",
        "    fig = plt.figure()\n",
        "\n",
        "    with torch.no_grad():\n",
        "        for i, (inputs, labels) in enumerate(dataloaders['test']):\n",
        "            inputs = inputs.to(device)\n",
        "            labels = labels.to(device)\n",
        "\n",
        "            outputs = model(inputs)\n",
        "            _, preds = torch.max(outputs, 1)\n",
        "\n",
        "            for j in range(inputs.size()[0]):\n",
        "                images_so_far += 1\n",
        "                ax = plt.subplot(num_images//2, 2, images_so_far)\n",
        "                ax.axis('off')\n",
        "                ax.set_title(f'predicted: {class_names[preds[j]]}')\n",
        "                imshow(inputs.cpu().data[j])\n",
        "\n",
        "                if images_so_far == num_images:\n",
        "                    model.train(mode=was_training)\n",
        "                    return\n",
        "        model.train(mode=was_training)"
      ],
      "metadata": {
        "id": "p8QTrIxW-t2J"
      },
      "execution_count": null,
      "outputs": []
    },
    {
      "cell_type": "code",
      "source": [
        "model_ft = models.alexnet(pretrained=True)\n",
        "model_ft.fc = nn.Linear(4096, 3)\n",
        "\n",
        "model_ft = model_ft.to(device)\n",
        "\n",
        "criterion = nn.CrossEntropyLoss()\n",
        "\n",
        "# Observe that all parameters are being optimized\n",
        "optimizer_ft = optim.Adam(model_ft.parameters(), lr=0.001)\n",
        "\n",
        "# Decay LR by a factor of 0.1 every 7 epochs\n",
        "exp_lr_scheduler = lr_scheduler.StepLR(optimizer_ft, step_size=7, gamma=0.1)"
      ],
      "metadata": {
        "id": "h1BwnhVG-ypE"
      },
      "execution_count": null,
      "outputs": []
    },
    {
      "cell_type": "code",
      "source": [
        "model_ft = train_model(model_ft, criterion, optimizer_ft, exp_lr_scheduler,num_epochs=25)"
      ],
      "metadata": {
        "colab": {
          "base_uri": "https://localhost:8080/"
        },
        "id": "yXRvZlN4AFje",
        "outputId": "1ae2c8a8-8c9c-48a7-8074-151293d27561"
      },
      "execution_count": null,
      "outputs": [
        {
          "output_type": "stream",
          "name": "stdout",
          "text": [
            "Epoch 0/24\n",
            "----------\n"
          ]
        },
        {
          "output_type": "stream",
          "name": "stderr",
          "text": [
            "/usr/local/lib/python3.7/dist-packages/torch/utils/data/dataloader.py:490: UserWarning: This DataLoader will create 3 worker processes in total. Our suggested max number of worker in current system is 2, which is smaller than what this DataLoader is going to create. Please be aware that excessive worker creation might get DataLoader running slow or even freeze, lower the worker number to avoid potential slowness/freeze if necessary.\n",
            "  cpuset_checked))\n"
          ]
        },
        {
          "output_type": "stream",
          "name": "stdout",
          "text": [
            "train Loss: 6.8625 Acc: 0.1477\n",
            "test Loss: 9.5641 Acc: 0.1515\n",
            "\n",
            "Epoch 1/24\n",
            "----------\n",
            "train Loss: 7.9584 Acc: 0.3409\n",
            "test Loss: 3.1607 Acc: 0.2424\n",
            "\n",
            "Epoch 2/24\n",
            "----------\n",
            "train Loss: 2.7843 Acc: 0.3182\n",
            "test Loss: 1.5852 Acc: 0.2424\n",
            "\n",
            "Epoch 3/24\n",
            "----------\n",
            "train Loss: 1.4617 Acc: 0.2841\n",
            "test Loss: 0.9344 Acc: 0.4848\n",
            "\n",
            "Epoch 4/24\n",
            "----------\n",
            "train Loss: 1.4193 Acc: 0.3295\n",
            "test Loss: 0.9509 Acc: 0.6061\n",
            "\n",
            "Epoch 5/24\n",
            "----------\n",
            "train Loss: 1.3186 Acc: 0.3523\n",
            "test Loss: 1.0747 Acc: 0.2424\n",
            "\n",
            "Epoch 6/24\n",
            "----------\n",
            "train Loss: 1.3455 Acc: 0.3182\n",
            "test Loss: 1.0419 Acc: 0.2424\n",
            "\n",
            "Epoch 7/24\n",
            "----------\n",
            "train Loss: 1.1763 Acc: 0.3295\n",
            "test Loss: 1.0304 Acc: 0.6061\n",
            "\n",
            "Epoch 8/24\n",
            "----------\n",
            "train Loss: 1.2084 Acc: 0.2955\n",
            "test Loss: 1.0483 Acc: 0.6061\n",
            "\n",
            "Epoch 9/24\n",
            "----------\n",
            "train Loss: 1.1066 Acc: 0.3864\n",
            "test Loss: 1.0669 Acc: 0.6061\n",
            "\n",
            "Epoch 10/24\n",
            "----------\n",
            "train Loss: 1.1791 Acc: 0.2727\n",
            "test Loss: 1.0614 Acc: 0.6061\n",
            "\n",
            "Epoch 11/24\n",
            "----------\n",
            "train Loss: 1.1216 Acc: 0.3295\n",
            "test Loss: 1.0547 Acc: 0.6061\n",
            "\n",
            "Epoch 12/24\n",
            "----------\n",
            "train Loss: 1.1021 Acc: 0.3750\n",
            "test Loss: 1.0527 Acc: 0.6061\n",
            "\n",
            "Epoch 13/24\n",
            "----------\n",
            "train Loss: 1.1080 Acc: 0.3409\n",
            "test Loss: 1.0530 Acc: 0.6061\n",
            "\n",
            "Epoch 14/24\n",
            "----------\n",
            "train Loss: 1.1471 Acc: 0.3068\n",
            "test Loss: 1.0511 Acc: 0.6061\n",
            "\n",
            "Epoch 15/24\n",
            "----------\n",
            "train Loss: 1.1092 Acc: 0.3864\n",
            "test Loss: 1.0491 Acc: 0.6061\n",
            "\n",
            "Epoch 16/24\n",
            "----------\n",
            "train Loss: 1.1569 Acc: 0.3750\n",
            "test Loss: 1.0478 Acc: 0.6061\n",
            "\n",
            "Epoch 17/24\n",
            "----------\n",
            "train Loss: 1.1555 Acc: 0.4205\n",
            "test Loss: 1.0469 Acc: 0.6061\n",
            "\n",
            "Epoch 18/24\n",
            "----------\n",
            "train Loss: 1.0957 Acc: 0.3750\n",
            "test Loss: 1.0465 Acc: 0.6061\n",
            "\n",
            "Epoch 19/24\n",
            "----------\n",
            "train Loss: 1.1333 Acc: 0.3182\n",
            "test Loss: 1.0474 Acc: 0.6061\n",
            "\n",
            "Epoch 20/24\n",
            "----------\n",
            "train Loss: 1.1206 Acc: 0.3409\n",
            "test Loss: 1.0486 Acc: 0.6061\n",
            "\n",
            "Epoch 21/24\n",
            "----------\n",
            "train Loss: 1.1542 Acc: 0.3523\n",
            "test Loss: 1.0485 Acc: 0.6061\n",
            "\n",
            "Epoch 22/24\n",
            "----------\n",
            "train Loss: 1.1382 Acc: 0.3068\n",
            "test Loss: 1.0483 Acc: 0.6061\n",
            "\n",
            "Epoch 23/24\n",
            "----------\n",
            "train Loss: 1.1089 Acc: 0.3977\n",
            "test Loss: 1.0482 Acc: 0.6061\n",
            "\n",
            "Epoch 24/24\n",
            "----------\n",
            "train Loss: 1.1562 Acc: 0.2955\n",
            "test Loss: 1.0480 Acc: 0.6061\n",
            "\n",
            "Training complete in 5m 38s\n",
            "Best val Acc: 0.606061\n",
            "Accuracy: 0.856667\n"
          ]
        }
      ]
    },
    {
      "cell_type": "code",
      "source": [
        "visualize_model(model_ft)"
      ],
      "metadata": {
        "colab": {
          "base_uri": "https://localhost:8080/",
          "height": 636
        },
        "id": "m2xAueAbB6mp",
        "outputId": "390aaa82-31fe-44e1-85d5-de351eaef806"
      },
      "execution_count": null,
      "outputs": [
        {
          "output_type": "stream",
          "name": "stderr",
          "text": [
            "/usr/local/lib/python3.7/dist-packages/torch/utils/data/dataloader.py:490: UserWarning: This DataLoader will create 3 worker processes in total. Our suggested max number of worker in current system is 2, which is smaller than what this DataLoader is going to create. Please be aware that excessive worker creation might get DataLoader running slow or even freeze, lower the worker number to avoid potential slowness/freeze if necessary.\n",
            "  cpuset_checked))\n"
          ]
        },
        {
          "output_type": "display_data",
          "data": {
            "text/plain": [
              "<Figure size 432x288 with 1 Axes>"
            ],
            "image/png": "[encoded data removed]"
          },
          "metadata": {
            "needs_background": "light"
          }
        },
        {
          "output_type": "display_data",
          "data": {
            "text/plain": [
              "<Figure size 432x288 with 1 Axes>"
            ],
            "image/png": "[encoded data removed]"
          },
          "metadata": {
            "needs_background": "light"
          }
        },
        {
          "output_type": "display_data",
          "data": {
            "text/plain": [
              "<Figure size 432x288 with 1 Axes>"
            ],
            "image/png": "[encoded data removed]"
          },
          "metadata": {
            "needs_background": "light"
          }
        },
        {
          "output_type": "display_data",
          "data": {
            "text/plain": [
              "<Figure size 432x288 with 1 Axes>"
            ],
            "image/png": "[encoded data removed]"
          },
          "metadata": {
            "needs_background": "light"
          }
        },
        {
          "output_type": "display_data",
          "data": {
            "text/plain": [
              "<Figure size 432x288 with 1 Axes>"
            ],
            "image/png": "[encoded data removed]"
          },
          "metadata": {
            "needs_background": "light"
          }
        },
        {
          "output_type": "display_data",
          "data": {
            "text/plain": [
              "<Figure size 432x288 with 1 Axes>"
            ],
            "image/png": "[encoded data removed]"
          },
          "metadata": {
            "needs_background": "light"
          }
        }
      ]
    },
    {
      "cell_type": "markdown",
      "metadata": {
        "id": "U3PZasO0006Z"
      },
      "source": [
        "## Part 4 - Making a single prediction"
      ]
    },
    {
      "cell_type": "code",
      "metadata": {
        "id": "gsSiWEJY1BPB"
      },
      "source": [
        "import numpy as np\n",
        "from keras.preprocessing import image\n",
        "test_image = image.load_img('/content/drive/MyDrive/ECG_Project/al_images/ARR_SC89.jpeg', target_size = (224, 224))\n",
        "preprocess = transforms.Compose([\n",
        "    transforms.Resize(256),\n",
        "    transforms.CenterCrop(224),\n",
        "    transforms.ToTensor(),\n",
        "    transforms.Normalize([0.485, 0.456, 0.406], [0.229, 0.224, 0.225]),\n",
        "])\n",
        "test_tensor = preprocess(test_image)\n",
        "test_batch = test_tensor.unsqueeze(0) # create a mini-batch as expected by the model\n",
        "result = model_ft(test_batch)"
      ],
      "execution_count": null,
      "outputs": []
    },
    {
      "cell_type": "code",
      "source": [
        "# Disable grad\n",
        "from keras.preprocessing import image\n",
        "with torch.no_grad():\n",
        "  test_image = image.load_img('/content/drive/MyDrive/ECG_Project/al_images/ARR_SC89.jpeg', target_size = (224, 224))\n",
        "  preprocess = transforms.Compose([\n",
        "                                   transforms.Resize(256),\n",
        "                                   transforms.CenterCrop(224),\n",
        "                                   transforms.ToTensor(),\n",
        "                                   transforms.Normalize([0.485, 0.456, 0.406], [0.229, 0.224, 0.225])\n",
        "                                   ])\n",
        "  test_tensor = preprocess(test_image)\n",
        "  test_batch = test_tensor.unsqueeze(0) # create a mini-batch as expected by the model\n",
        "  # Generate prediction\n",
        "  prediction = model_ft(test_batch)\n",
        "\n",
        "  # Predicted class value using argmax\n",
        "  predicted_class = np.argmax(prediction)\n",
        "  # Reshape image\n",
        "  test_process = transforms.Compose([\n",
        "                                   transforms.CenterCrop(180)\n",
        "                                   ])\n",
        "  image = test_process(test_image)\n",
        "  true_target=\"ARR\"\n",
        "\n",
        "  if predicted_class == 0:\n",
        "    predicted_class = 'ARR'\n",
        "  elif predicted_class == 1:\n",
        "    predicted_class = 'CHF'\n",
        "  elif predicted_class == 2:\n",
        "    predicted_class = 'NSR'\n",
        "\n",
        "  # Show result\n",
        "  plt.imshow(image, cmap='gray')\n",
        "  plt.title(f'Prediction: {predicted_class} - Actual target: {true_target}')\n",
        "  plt.show()"
      ],
      "metadata": {
        "colab": {
          "base_uri": "https://localhost:8080/",
          "height": 281
        },
        "id": "gRinCrndPpi9",
        "outputId": "177a1144-9b9e-4d9b-8f45-4eafeb590a0a"
      },
      "execution_count": null,
      "outputs": [
        {
          "output_type": "display_data",
          "data": {
            "text/plain": [
              "<Figure size 432x288 with 1 Axes>"
            ],
            "image/png": "[encoded data removed]"
          },
          "metadata": {
            "needs_background": "light"
          }
        }
      ]
    },
    {
      "cell_type": "code",
      "source": [
        "score = tf.nn.softmax(prediction[0])\n",
        "perc=np.max(score)"
      ],
      "metadata": {
        "id": "8Qq51zMaTK4W"
      },
      "execution_count": null,
      "outputs": []
    },
    {
      "cell_type": "code",
      "source": [
        "print(\"This image most likely belongs to {} with a {:.2f} percent confidence.\".format(predicted_class, 100 * perc))"
      ],
      "metadata": {
        "colab": {
          "base_uri": "https://localhost:8080/"
        },
        "outputId": "dfd5a7ee-55e9-4db7-dea3-55e77c5313ea",
        "id": "SaqGWKhu2NmU"
      },
      "execution_count": null,
      "outputs": [
        {
          "output_type": "stream",
          "name": "stdout",
          "text": [
            "This image most likely belongs to ARR with a 56.74 percent confidence.\n"
          ]
        }
      ]
    }
  ]
}